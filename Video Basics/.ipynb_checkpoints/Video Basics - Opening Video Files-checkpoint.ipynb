{
 "cells": [
  {
   "cell_type": "code",
   "execution_count": 7,
   "metadata": {},
   "outputs": [
    {
     "name": "stdout",
     "output_type": "stream",
     "text": [
      "5\n"
     ]
    }
   ],
   "source": [
    "import cv2\n",
    "import time\n",
    "\n",
    "cap = cv2.VideoCapture('testVideo.mp4')\n",
    "\n",
    "fr = cv2.CAP_PROP_FPS\n",
    "print(fr)\n",
    "\n",
    "if cap.isOpened() == False:\n",
    "    print('ERROR FILE NOT FOUND, OR WRONG CODEC USED!')\n",
    "    \n",
    "while cap.isOpened():\n",
    "    ret, frame = cap.read()\n",
    "    \n",
    "    # If we still have frames to show\n",
    "    if ret == True:\n",
    "        time.sleep(1/20) # Shows frames more easily\n",
    "        \n",
    "        cv2.imshow('frame', frame)\n",
    "        \n",
    "        # provide a way to stop the video\n",
    "        if(cv2.waitKey(10) & 0xFF == ord('q')):\n",
    "            break\n",
    "    # if we reach the end of the video\n",
    "    else:\n",
    "        break\n",
    "        \n",
    "cap.release()\n",
    "cv2.destroyAllWindows()"
   ]
  },
  {
   "cell_type": "code",
   "execution_count": 5,
   "metadata": {},
   "outputs": [
    {
     "name": "stdout",
     "output_type": "stream",
     "text": [
      "5\n"
     ]
    }
   ],
   "source": [
    "cap = cv2.VideoCapture('testVideo.mp4')\n",
    "\n",
    "fr = cv2.CAP_PROP_FPS\n",
    "print(fr)"
   ]
  },
  {
   "cell_type": "code",
   "execution_count": null,
   "metadata": {},
   "outputs": [],
   "source": []
  }
 ],
 "metadata": {
  "kernelspec": {
   "display_name": "Python 3",
   "language": "python",
   "name": "python3"
  },
  "language_info": {
   "codemirror_mode": {
    "name": "ipython",
    "version": 3
   },
   "file_extension": ".py",
   "mimetype": "text/x-python",
   "name": "python",
   "nbconvert_exporter": "python",
   "pygments_lexer": "ipython3",
   "version": "3.6.6"
  }
 },
 "nbformat": 4,
 "nbformat_minor": 2
}
